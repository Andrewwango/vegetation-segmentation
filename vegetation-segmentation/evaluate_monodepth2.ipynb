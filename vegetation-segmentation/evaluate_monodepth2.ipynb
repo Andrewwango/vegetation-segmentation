{
 "cells": [
  {
   "cell_type": "code",
   "execution_count": 1,
   "id": "deadly-commonwealth",
   "metadata": {},
   "outputs": [],
   "source": [
    "import os, copy, csv\n",
    "import numpy as np\n",
    "import pandas as pd\n",
    "from skimage.transform import resize\n",
    "import matplotlib.pyplot as plt\n",
    "from PIL import Image\n",
    "import PIL\n",
    "import torch, torchvision\n",
    "from deeplabv3 import FreiburgTestDataset, FreiburgDepthTestDataset, cf, dn, nut, c2e"
   ]
  },
  {
   "cell_type": "markdown",
   "id": "optical-chicken",
   "metadata": {},
   "source": [
    "## Load validation dataset"
   ]
  },
  {
   "cell_type": "code",
   "execution_count": 2,
   "id": "promotional-coordinator",
   "metadata": {},
   "outputs": [],
   "source": [
    "batch_size=50"
   ]
  },
  {
   "cell_type": "code",
   "execution_count": 3,
   "id": "hourly-hindu",
   "metadata": {},
   "outputs": [],
   "source": [
    "test_orig_img_shape = (480,640)#(768, 1024)"
   ]
  },
  {
   "cell_type": "code",
   "execution_count": 4,
   "id": "regional-expense",
   "metadata": {},
   "outputs": [],
   "source": [
    "fd_val = FreiburgTestDataset(\"data/freiburg/val\")"
   ]
  },
  {
   "cell_type": "markdown",
   "id": "finished-episode",
   "metadata": {},
   "source": [
    "## Obtain depth prediction with monodepth2"
   ]
  },
  {
   "cell_type": "code",
   "execution_count": 5,
   "id": "intermediate-taste",
   "metadata": {},
   "outputs": [],
   "source": [
    "#change transform to match monodepth2's required size\n",
    "fd_val.transforms = torchvision.transforms.Compose([Image.fromarray,\n",
    "                                                     lambda x: x.resize((640, 192), Image.LANCZOS), \n",
    "                                                     torchvision.transforms.ToTensor()])\n",
    "test_dataloader2 = torch.utils.data.DataLoader(fd_val, batch_size=batch_size, shuffle=False)\n",
    "test_img2 = next(iter(test_dataloader2))"
   ]
  },
  {
   "cell_type": "code",
   "execution_count": 6,
   "id": "played-upper",
   "metadata": {},
   "outputs": [],
   "source": [
    "from monodepth2 import estimate_depthmap"
   ]
  },
  {
   "cell_type": "code",
   "execution_count": 7,
   "id": "failing-nevada",
   "metadata": {},
   "outputs": [
    {
     "name": "stdout",
     "output_type": "stream",
     "text": [
      "-> Loading model from  models\\mono_640x192\n",
      "   Loading pretrained encoder\n",
      "   Loading pretrained decoder\n"
     ]
    },
    {
     "name": "stderr",
     "output_type": "stream",
     "text": [
      "c:\\users\\andre\\appdata\\local\\programs\\python\\python38\\lib\\site-packages\\torch\\nn\\functional.py:718: UserWarning: Named tensors and all their associated APIs are an experimental feature and subject to change. Please do not use them for anything important until they are released as stable. (Triggered internally at  ..\\c10/core/TensorImpl.h:1156.)\n",
      "  return torch.max_pool2d(input, kernel_size, stride, padding, dilation, ceil_mode)\n"
     ]
    }
   ],
   "source": [
    "test_depth_pred = estimate_depthmap(test_img2)"
   ]
  },
  {
   "cell_type": "code",
   "execution_count": 8,
   "id": "boolean-definition",
   "metadata": {},
   "outputs": [],
   "source": [
    "test_img2 = dn(test_img2)"
   ]
  },
  {
   "cell_type": "markdown",
   "id": "asian-music",
   "metadata": {},
   "source": [
    "fig,axs=plt.subplots(batch_size,2, figsize=(20,20))\n",
    "for i in range(2):\n",
    "    axs[i,0].imshow(c2e(test_img2[i]))\n",
    "    axs[i,1].imshow(test_depth_pred[i], cmap='gray' )"
   ]
  },
  {
   "cell_type": "markdown",
   "id": "judicial-vatican",
   "metadata": {},
   "source": [
    "# Retrieve ground truths"
   ]
  },
  {
   "cell_type": "code",
   "execution_count": 9,
   "id": "searching-airport",
   "metadata": {},
   "outputs": [],
   "source": [
    "fd_depth_test = FreiburgDepthTestDataset(\"data/freiburg/val\")"
   ]
  },
  {
   "cell_type": "code",
   "execution_count": 10,
   "id": "august-honey",
   "metadata": {},
   "outputs": [],
   "source": [
    "test_depth_true = np.zeros((len(fd_depth_test), 192, 640))\n",
    "for i in range(len(fd_depth_test)):\n",
    "    test_depth_true[i] = fd_depth_test[i]"
   ]
  },
  {
   "cell_type": "markdown",
   "id": "together-aggregate",
   "metadata": {},
   "source": [
    "# Compare"
   ]
  },
  {
   "cell_type": "code",
   "execution_count": 11,
   "id": "sustained-specification",
   "metadata": {},
   "outputs": [],
   "source": [
    "from sklearn.metrics import mean_absolute_percentage_error, mean_squared_error"
   ]
  },
  {
   "cell_type": "code",
   "execution_count": 15,
   "id": "signal-plymouth",
   "metadata": {},
   "outputs": [],
   "source": [
    "a = np.clip(1/test_depth_pred, 0.0, 1.0)\n",
    "b = test_depth_true[:50]"
   ]
  },
  {
   "cell_type": "code",
   "execution_count": 16,
   "id": "demographic-privacy",
   "metadata": {},
   "outputs": [],
   "source": [
    "MAPEs = []"
   ]
  },
  {
   "cell_type": "code",
   "execution_count": 17,
   "id": "romance-problem",
   "metadata": {},
   "outputs": [],
   "source": [
    "for i in range(a.shape[0]):\n",
    "    MAPEs.append(mean_absolute_percentage_error(b[i].flatten(), a[i].flatten()))"
   ]
  },
  {
   "cell_type": "code",
   "execution_count": 21,
   "id": "important-preservation",
   "metadata": {},
   "outputs": [
    {
     "data": {
      "text/plain": [
       "0.30508909889900093"
      ]
     },
     "execution_count": 21,
     "metadata": {},
     "output_type": "execute_result"
    }
   ],
   "source": [
    "np.mean(MAPEs)"
   ]
  },
  {
   "cell_type": "code",
   "execution_count": 57,
   "id": "cathedral-atlantic",
   "metadata": {},
   "outputs": [
    {
     "data": {
      "text/plain": [
       "0.18173999869727103"
      ]
     },
     "execution_count": 57,
     "metadata": {},
     "output_type": "execute_result"
    }
   ],
   "source": [
    "mean_squared_error(b, a, squared=False)"
   ]
  },
  {
   "cell_type": "code",
   "execution_count": null,
   "id": "thorough-gregory",
   "metadata": {},
   "outputs": [],
   "source": []
  }
 ],
 "metadata": {
  "kernelspec": {
   "display_name": "Python 3",
   "language": "python",
   "name": "python3"
  },
  "language_info": {
   "codemirror_mode": {
    "name": "ipython",
    "version": 3
   },
   "file_extension": ".py",
   "mimetype": "text/x-python",
   "name": "python",
   "nbconvert_exporter": "python",
   "pygments_lexer": "ipython3",
   "version": "3.8.7"
  }
 },
 "nbformat": 4,
 "nbformat_minor": 5
}
